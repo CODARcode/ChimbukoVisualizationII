{
 "cells": [
  {
   "cell_type": "code",
   "execution_count": null,
   "id": "2717b563",
   "metadata": {},
   "outputs": [],
   "source": [
    "import os\n",
    "import glob\n",
    "import numpy as np\n",
    "import pandas as pd\n",
    "import plotly.express as px"
   ]
  },
  {
   "cell_type": "code",
   "execution_count": null,
   "id": "f8899172",
   "metadata": {},
   "outputs": [],
   "source": [
    "orig_df = pd.read_excel(\"SSTD_score.xlsx\", index_col=0)"
   ]
  },
  {
   "cell_type": "code",
   "execution_count": null,
   "id": "bad3353f",
   "metadata": {},
   "outputs": [],
   "source": [
    "# normalize selected columns for each stream\n",
    "df = orig_df.copy()\n",
    "ndf = df[['new_count', 'new_score', 'new_severity', 'all_count', 'all_score', 'all_severity', 'stream_id']].groupby('stream_id').transform(lambda x: (x - x.min()) / (x.max() - x.min() + 0.000001))\n",
    "ndf = ndf.rename(columns={'all_severity': 'norm_all_severity', 'all_score': 'norm_all_score', 'all_count': 'norm_all_count'})\n",
    "df = pd.concat([df[['stream_id', 'fid', 'fname', 'app', 'rank', 'all_severity', 'all_count', 'all_score']], ndf], axis=1)\n",
    "count_rank = df[['stream_id', 'fname', 'rank']].groupby(['stream_id', 'fname']).count().sort_values(['stream_id','rank'], ascending=[True, False]).reset_index()"
   ]
  },
  {
   "cell_type": "code",
   "execution_count": null,
   "id": "fbb55636",
   "metadata": {},
   "outputs": [],
   "source": [
    "# for each stream, the visualization of (fid, rank)-wise anomalies\n",
    "# color shows the value of severity\n",
    "metric = 'severity'\n",
    "fig = px.scatter(df, x='fid', y='rank',\n",
    "                 range_x=[df['fid'].min() - 10, df['fid'].max() + 10],\n",
    "                 range_y=[df['rank'].min() - 10, df['rank'].max() + 10],\n",
    "                 color=df['norm_all_' + metric].to_numpy(dtype=float),\n",
    "                 range_color=[df['norm_all_' + metric].min(), df['norm_all_' + metric].max()],\n",
    "                 animation_frame='stream_id',\n",
    "                 hover_name='fname', hover_data=['fid', 'rank', 'all_severity', 'all_score', 'all_count'],\n",
    "                 title='Metric: ' + metric,\n",
    "                )\n",
    "fig.show()"
   ]
  },
  {
   "cell_type": "code",
   "execution_count": null,
   "id": "be87a810",
   "metadata": {},
   "outputs": [],
   "source": [
    "# choose top 1000 metric-value rows for each stream\n",
    "df_top = df.sort_values(['stream_id', 'all_severity'], ascending=[True, False]).groupby('stream_id').head(1000)\n",
    "_temp = df_top.groupby('stream_id').fid.count()\n",
    "_out = [i for num in _temp.values for i in range(num)]\n",
    "df_top['fid_index'] = _out"
   ]
  },
  {
   "cell_type": "code",
   "execution_count": null,
   "id": "126ea9b6",
   "metadata": {},
   "outputs": [],
   "source": [
    "# for each stream, visualize the top severity anomalies sorted in descending order\n",
    "fig = px.scatter(df_top, x='fid_index', y='norm_all_severity', color='fid', \n",
    "                 animation_frame='stream_id',\n",
    "                 hover_name='fname', hover_data=['fid', 'rank', 'all_severity', 'all_score', 'all_count'],\n",
    "                 title='Metric: ' + metric,\n",
    "                )\n",
    "fig.show()"
   ]
  },
  {
   "cell_type": "code",
   "execution_count": null,
   "id": "a2817fb0",
   "metadata": {},
   "outputs": [],
   "source": [
    "### aggregate fid by count ###\n",
    "### y axis: how many ranks captured for the same fid ###\n",
    "### x axis: the fid's fname ###\n",
    "\n",
    "#count_rank['fid'] = count_rank['fid'].astype(str)\n",
    "count_rank_ = count_rank.rename(columns={'rank':'rank_count'})\n",
    "fig = px.scatter(count_rank_, x='fname', y='rank_count', #color='rank', \n",
    "                 #range_x=[count_rank['fid'].min()-10, count_rank['fid'].max()+10],\n",
    "                 range_y=[count_rank_['rank_count'].min()-10, count_rank_['rank_count'].max()+10],\n",
    "                 animation_frame='stream_id')\n",
    "fig.update_xaxes(showticklabels=False)\n",
    "fig.show()"
   ]
  },
  {
   "cell_type": "code",
   "execution_count": null,
   "id": "85a54049",
   "metadata": {},
   "outputs": [],
   "source": [
    "# global -- for each stream, each rank, how many anomalies reported\n",
    "cur = df\n",
    "acc_df = cur.groupby(['stream_id', 'rank']).count()\n",
    "acc_df = acc_df.reset_index()\n",
    "acc_df['stream_id'] = acc_df['stream_id'].astype(str)\n",
    "fig = px.scatter(acc_df, x='stream_id', y='rank', color='fid')\n",
    "fig.show()"
   ]
  },
  {
   "cell_type": "code",
   "execution_count": null,
   "id": "c04459c0",
   "metadata": {},
   "outputs": [],
   "source": []
  }
 ],
 "metadata": {
  "kernelspec": {
   "display_name": "Python 3",
   "language": "python",
   "name": "python3"
  },
  "language_info": {
   "codemirror_mode": {
    "name": "ipython",
    "version": 3
   },
   "file_extension": ".py",
   "mimetype": "text/x-python",
   "name": "python",
   "nbconvert_exporter": "python",
   "pygments_lexer": "ipython3",
   "version": "3.8.5"
  }
 },
 "nbformat": 4,
 "nbformat_minor": 5
}
